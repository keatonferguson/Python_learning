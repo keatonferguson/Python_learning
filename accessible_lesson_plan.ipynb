{
  "nbformat": 4,
  "nbformat_minor": 0,
  "metadata": {
    "colab": {
      "provenance": []
    },
    "kernelspec": {
      "name": "python3",
      "display_name": "Python 3"
    },
    "language_info": {
      "name": "python"
    }
  },
  "cells": [
    {
      "cell_type": "markdown",
      "source": [
        "# Basic python functions"
      ],
      "metadata": {
        "id": "EZKVJ-MFWzhP"
      }
    },
    {
      "cell_type": "code",
      "source": [
        "# prompt: basic python functions\n",
        "\n",
        "def add(x, y):\n",
        "  \"\"\"Adds two numbers together.\"\"\"\n",
        "  return x + y\n",
        "\n",
        "def subtract(x, y):\n",
        "  \"\"\"Subtracts two numbers.\"\"\"\n",
        "  return x - y\n",
        "\n",
        "def multiply(x, y):\n",
        "  \"\"\"Multiplies two numbers.\"\"\"\n",
        "  return x * y\n",
        "\n",
        "def divide(x, y):\n",
        "  \"\"\"Divides two numbers.\"\"\"\n",
        "  if y == 0:\n",
        "    return \"Division by zero!\"\n",
        "  else:\n",
        "    return x / y\n"
      ],
      "metadata": {
        "id": "azY8wB__VL6t"
      },
      "execution_count": null,
      "outputs": []
    },
    {
      "cell_type": "markdown",
      "source": [
        "# How to import data\n"
      ],
      "metadata": {
        "id": "lVYfEVuPVPVl"
      }
    },
    {
      "cell_type": "code",
      "source": [
        "# prompt: how to import data from a csv\n",
        "\n",
        "import pandas as pd\n",
        "\n",
        "# Assuming your CSV file is named 'data.csv' and is in the same directory as your notebook.\n",
        "# If not, provide the full path to the file.\n",
        "try:\n",
        "  df = pd.read_csv('data.csv')\n",
        "  print(df.head())  # Print the first few rows of the DataFrame\n",
        "except FileNotFoundError:\n",
        "  print(\"Error: 'data.csv' not found. Please ensure the file exists in the correct location.\")\n",
        "except pd.errors.EmptyDataError:\n",
        "  print(\"Error: 'data.csv' is empty.\")\n",
        "except pd.errors.ParserError:\n",
        "  print(\"Error: Could not parse 'data.csv'. Please check the file format.\")\n"
      ],
      "metadata": {
        "id": "jS9ADIKYVPiM"
      },
      "execution_count": null,
      "outputs": []
    },
    {
      "cell_type": "markdown",
      "source": [
        "# Fit a linear data behavior\n"
      ],
      "metadata": {
        "id": "vv7OvHqYVP0B"
      }
    },
    {
      "cell_type": "code",
      "source": [
        "# prompt: Fit some data with a linear function\n",
        "\n",
        "import numpy as np\n",
        "from sklearn.linear_model import LinearRegression\n",
        "\n",
        "# Sample data (replace with your actual data)\n",
        "X = np.array([[1], [2], [3], [4], [5]])\n",
        "y = np.array([2, 4, 5, 4, 5])\n",
        "\n",
        "# Create and fit the linear regression model\n",
        "model = LinearRegression()\n",
        "model.fit(X, y)\n",
        "\n",
        "# Print the coefficients\n",
        "print(\"Intercept:\", model.intercept_)\n",
        "print(\"Slope:\", model.coef_[0])\n",
        "\n",
        "# Make predictions\n",
        "X_new = np.array([[6], [7]])\n",
        "y_pred = model.predict(X_new)\n",
        "print(\"Predictions:\", y_pred)\n"
      ],
      "metadata": {
        "id": "HATVL0A4VP8G"
      },
      "execution_count": null,
      "outputs": []
    },
    {
      "cell_type": "markdown",
      "source": [
        "# Now we'll try something harder - fitting a more complicated model."
      ],
      "metadata": {
        "id": "SOciNCsBVFA0"
      }
    },
    {
      "cell_type": "code",
      "execution_count": null,
      "metadata": {
        "id": "oe8vlppxTKH7"
      },
      "outputs": [],
      "source": [
        "# prompt: fit a sum of 5 gaussians to data\n",
        "\n",
        "import numpy as np\n",
        "from scipy.optimize import curve_fit\n",
        "\n",
        "def gaussian(x, amplitude, mean, stddev):\n",
        "    return amplitude * np.exp(-((x - mean) / 4 / stddev)**2)\n",
        "\n",
        "def sum_of_gaussians(x, *params):\n",
        "    y = np.zeros_like(x)\n",
        "    for i in range(0, len(params), 3):\n",
        "        y = y + gaussian(x, params[i], params[i+1], params[i+2])\n",
        "    return y\n",
        "\n",
        "# Example data (replace with your actual data)\n",
        "x_data = np.linspace(0, 10, 100)\n",
        "y_data = 2*gaussian(x_data, 1, 2, 1) + gaussian(x_data, 0.5, 5, 0.5) + gaussian(x_data, 1.2, 7, 1.5) + gaussian(x_data, 0.7, 3, 0.8) + gaussian(x_data, 0.9, 8, 0.6)  + np.random.normal(0, 0.2, 100)\n",
        "\n",
        "\n",
        "# Initial guess for the parameters (adjust these based on your data)\n",
        "initial_guess = [1, 2, 1, 0.5, 5, 0.5, 1.2, 7, 1.5, 0.7, 3, 0.8, 0.9, 8, 0.6]\n",
        "\n",
        "# Fit the sum of Gaussians to the data\n",
        "params, covariance = curve_fit(sum_of_gaussians, x_data, y_data, p0=initial_guess)\n",
        "\n",
        "# Get the fitted parameters\n",
        "fitted_params = params\n",
        "\n",
        "# Generate the fitted curve\n",
        "y_fit = sum_of_gaussians(x_data, *fitted_params)\n",
        "\n",
        "\n",
        "# Print or plot the results\n",
        "print(\"Fitted Parameters:\", fitted_params)\n",
        "\n",
        "import matplotlib.pyplot as plt\n",
        "plt.plot(x_data, y_data, 'b-', label='Data')\n",
        "plt.plot(x_data, y_fit, 'r-', label='Fitted Curve')\n",
        "plt.legend()\n",
        "plt.show()"
      ]
    }
  ]
}